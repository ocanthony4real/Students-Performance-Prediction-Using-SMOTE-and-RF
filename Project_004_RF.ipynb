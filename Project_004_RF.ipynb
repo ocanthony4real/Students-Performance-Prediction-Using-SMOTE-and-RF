{
  "cells": [
    {
      "cell_type": "code",
      "execution_count": 560,
      "metadata": {
        "colab": {
          "base_uri": "https://localhost:8080/"
        },
        "id": "pZQCcIe1CPLu",
        "outputId": "d1a538a0-8290-431f-de0c-de8256245afb"
      },
      "outputs": [],
      "source": [
        "# from google.colab import drive\n",
        "# drive.mount('/content/gdrive')\n",
       
      ]
    },
    {
      "cell_type": "code",
      "execution_count": 561,
      "metadata": {
        "id": "RUbZSCh4ChqQ"
      },
      "outputs": [],
      "source": [
        "\n",
        "import numpy as np\n",
        "import pandas as pd\n",
        "import matplotlib.pyplot as plt "
      ]
    },
    {
      "cell_type": "code",
      "execution_count": 562,
      "metadata": {
        "id": "sbNymkHTECXk"
      },
      "outputs": [],
      "source": [
        "df = pd.read_csv('dataset.csv')"
      ]
    },
    {
      "cell_type": "code",
      "execution_count": 563,
      "metadata": {
        "id": "8e2CTj02EC58"
      },
      "outputs": [],
      "source": [
        "df_new = df.drop(axis=1, columns=['Curricular units 1st sem (credited)',\n",
        "        'Previous qualification',\n",
        "       'Curricular units 1st sem (enrolled)',\n",
        "       'Curricular units 1st sem (evaluations)',\n",
        "       'Curricular units 1st sem (approved)',\n",
        "       'Curricular units 1st sem (without evaluations)',\n",
        "       'Curricular units 2nd sem (credited)',\n",
        "       'Curricular units 2nd sem (enrolled)',\n",
        "       'Curricular units 2nd sem (evaluations)',\n",
        "       'Curricular units 2nd sem (approved)',\n",
        "       'Curricular units 2nd sem (without evaluations)','International','Application mode', 'Application order',  'Target'])"
      ]
    },
    {
      "cell_type": "code",
      "execution_count": 564,
      "metadata": {
        "id": "Uy1FSgfREFFp"
      },
      "outputs": [],
      "source": [
        "conditions = [\n",
        "    (df_new['Curricular units 1st sem (grade)'] >= 14.0),\n",
        "    (df_new['Curricular units 1st sem (grade)'] >= 11.0) & (df_new['Curricular units 1st sem (grade)'] < 14.0),\n",
        "    (df_new['Curricular units 1st sem (grade)'] >= 5.0) & (df_new['Curricular units 1st sem (grade)'] < 11.0),\n",
        "    (df_new['Curricular units 1st sem (grade)'] >= 0.0) & (df_new['Curricular units 1st sem (grade)'] < 5.0),\n",
        "]\n",
        "\n",
        "choices = [0, 1, 2, 3]\n",
        "\n",
        "df_new['1st sem Grade remark'] = np.select(conditions, choices, default='null')\n",
        "\n",
        "df_new['1st sem Grade remark'] = df_new['1st sem Grade remark'].astype(int)"
      ]
    },
    {
      "cell_type": "code",
      "execution_count": 565,
      "metadata": {
        "id": "j32OfEBOEJQk"
      },
      "outputs": [],
      "source": [
        "df_new = df_new.drop(axis=1, columns=['Curricular units 2nd sem (grade)','Curricular units 1st sem (grade)'])\n"
      ]
    },
    {
      "cell_type": "code",
      "execution_count": 566,
      "metadata": {
        "colab": {
          "base_uri": "https://localhost:8080/",
          "height": 496
        },
        "id": "FHx-osqi2f9s",
        "outputId": "616f6a78-a02b-4ea2-c98b-ff7807e30c2e"
      },
      "outputs": [
        {
          "data": {
            "text/html": [
              "<div>\n",
              "<style scoped>\n",
              "    .dataframe tbody tr th:only-of-type {\n",
              "        vertical-align: middle;\n",
              "    }\n",
              "\n",
              "    .dataframe tbody tr th {\n",
              "        vertical-align: top;\n",
              "    }\n",
              "\n",
              "    .dataframe thead th {\n",
              "        text-align: right;\n",
              "    }\n",
              "</style>\n",
              "<table border=\"1\" class=\"dataframe\">\n",
              "  <thead>\n",
              "    <tr style=\"text-align: right;\">\n",
              "      <th></th>\n",
              "      <th>Marital status</th>\n",
              "      <th>Course</th>\n",
              "      <th>Daytime/evening attendance</th>\n",
              "      <th>Nacionality</th>\n",
              "      <th>Mother's qualification</th>\n",
              "      <th>Father's qualification</th>\n",
              "      <th>Mother's occupation</th>\n",
              "      <th>Father's occupation</th>\n",
              "      <th>Displaced</th>\n",
              "      <th>Educational special needs</th>\n",
              "      <th>Debtor</th>\n",
              "      <th>Tuition fees up to date</th>\n",
              "      <th>Gender</th>\n",
              "      <th>Scholarship holder</th>\n",
              "      <th>Age at enrollment</th>\n",
              "      <th>Unemployment rate</th>\n",
              "      <th>Inflation rate</th>\n",
              "      <th>GDP</th>\n",
              "      <th>1st sem Grade remark</th>\n",
              "    </tr>\n",
              "  </thead>\n",
              "  <tbody>\n",
              "    <tr>\n",
              "      <th>0</th>\n",
              "      <td>1</td>\n",
              "      <td>2</td>\n",
              "      <td>1</td>\n",
              "      <td>1</td>\n",
              "      <td>13</td>\n",
              "      <td>10</td>\n",
              "      <td>6</td>\n",
              "      <td>10</td>\n",
              "      <td>1</td>\n",
              "      <td>0</td>\n",
              "      <td>0</td>\n",
              "      <td>1</td>\n",
              "      <td>1</td>\n",
              "      <td>0</td>\n",
              "      <td>20</td>\n",
              "      <td>10.8</td>\n",
              "      <td>1.4</td>\n",
              "      <td>1.74</td>\n",
              "      <td>3</td>\n",
              "    </tr>\n",
              "    <tr>\n",
              "      <th>1</th>\n",
              "      <td>1</td>\n",
              "      <td>11</td>\n",
              "      <td>1</td>\n",
              "      <td>1</td>\n",
              "      <td>1</td>\n",
              "      <td>3</td>\n",
              "      <td>4</td>\n",
              "      <td>4</td>\n",
              "      <td>1</td>\n",
              "      <td>0</td>\n",
              "      <td>0</td>\n",
              "      <td>0</td>\n",
              "      <td>1</td>\n",
              "      <td>0</td>\n",
              "      <td>19</td>\n",
              "      <td>13.9</td>\n",
              "      <td>-0.3</td>\n",
              "      <td>0.79</td>\n",
              "      <td>0</td>\n",
              "    </tr>\n",
              "    <tr>\n",
              "      <th>2</th>\n",
              "      <td>1</td>\n",
              "      <td>5</td>\n",
              "      <td>1</td>\n",
              "      <td>1</td>\n",
              "      <td>22</td>\n",
              "      <td>27</td>\n",
              "      <td>10</td>\n",
              "      <td>10</td>\n",
              "      <td>1</td>\n",
              "      <td>0</td>\n",
              "      <td>0</td>\n",
              "      <td>0</td>\n",
              "      <td>1</td>\n",
              "      <td>0</td>\n",
              "      <td>19</td>\n",
              "      <td>10.8</td>\n",
              "      <td>1.4</td>\n",
              "      <td>1.74</td>\n",
              "      <td>3</td>\n",
              "    </tr>\n",
              "    <tr>\n",
              "      <th>3</th>\n",
              "      <td>1</td>\n",
              "      <td>15</td>\n",
              "      <td>1</td>\n",
              "      <td>1</td>\n",
              "      <td>23</td>\n",
              "      <td>27</td>\n",
              "      <td>6</td>\n",
              "      <td>4</td>\n",
              "      <td>1</td>\n",
              "      <td>0</td>\n",
              "      <td>0</td>\n",
              "      <td>1</td>\n",
              "      <td>0</td>\n",
              "      <td>0</td>\n",
              "      <td>20</td>\n",
              "      <td>9.4</td>\n",
              "      <td>-0.8</td>\n",
              "      <td>-3.12</td>\n",
              "      <td>1</td>\n",
              "    </tr>\n",
              "    <tr>\n",
              "      <th>4</th>\n",
              "      <td>2</td>\n",
              "      <td>3</td>\n",
              "      <td>0</td>\n",
              "      <td>1</td>\n",
              "      <td>22</td>\n",
              "      <td>28</td>\n",
              "      <td>10</td>\n",
              "      <td>10</td>\n",
              "      <td>0</td>\n",
              "      <td>0</td>\n",
              "      <td>0</td>\n",
              "      <td>1</td>\n",
              "      <td>0</td>\n",
              "      <td>0</td>\n",
              "      <td>45</td>\n",
              "      <td>13.9</td>\n",
              "      <td>-0.3</td>\n",
              "      <td>0.79</td>\n",
              "      <td>1</td>\n",
              "    </tr>\n",
              "    <tr>\n",
              "      <th>...</th>\n",
              "      <td>...</td>\n",
              "      <td>...</td>\n",
              "      <td>...</td>\n",
              "      <td>...</td>\n",
              "      <td>...</td>\n",
              "      <td>...</td>\n",
              "      <td>...</td>\n",
              "      <td>...</td>\n",
              "      <td>...</td>\n",
              "      <td>...</td>\n",
              "      <td>...</td>\n",
              "      <td>...</td>\n",
              "      <td>...</td>\n",
              "      <td>...</td>\n",
              "      <td>...</td>\n",
              "      <td>...</td>\n",
              "      <td>...</td>\n",
              "      <td>...</td>\n",
              "      <td>...</td>\n",
              "    </tr>\n",
              "    <tr>\n",
              "      <th>4419</th>\n",
              "      <td>1</td>\n",
              "      <td>15</td>\n",
              "      <td>1</td>\n",
              "      <td>1</td>\n",
              "      <td>1</td>\n",
              "      <td>1</td>\n",
              "      <td>6</td>\n",
              "      <td>5</td>\n",
              "      <td>0</td>\n",
              "      <td>0</td>\n",
              "      <td>0</td>\n",
              "      <td>1</td>\n",
              "      <td>1</td>\n",
              "      <td>0</td>\n",
              "      <td>19</td>\n",
              "      <td>15.5</td>\n",
              "      <td>2.8</td>\n",
              "      <td>-4.06</td>\n",
              "      <td>1</td>\n",
              "    </tr>\n",
              "    <tr>\n",
              "      <th>4420</th>\n",
              "      <td>1</td>\n",
              "      <td>15</td>\n",
              "      <td>1</td>\n",
              "      <td>19</td>\n",
              "      <td>1</td>\n",
              "      <td>1</td>\n",
              "      <td>10</td>\n",
              "      <td>10</td>\n",
              "      <td>1</td>\n",
              "      <td>0</td>\n",
              "      <td>1</td>\n",
              "      <td>0</td>\n",
              "      <td>0</td>\n",
              "      <td>0</td>\n",
              "      <td>18</td>\n",
              "      <td>11.1</td>\n",
              "      <td>0.6</td>\n",
              "      <td>2.02</td>\n",
              "      <td>1</td>\n",
              "    </tr>\n",
              "    <tr>\n",
              "      <th>4421</th>\n",
              "      <td>1</td>\n",
              "      <td>12</td>\n",
              "      <td>1</td>\n",
              "      <td>1</td>\n",
              "      <td>22</td>\n",
              "      <td>27</td>\n",
              "      <td>10</td>\n",
              "      <td>10</td>\n",
              "      <td>1</td>\n",
              "      <td>0</td>\n",
              "      <td>0</td>\n",
              "      <td>1</td>\n",
              "      <td>0</td>\n",
              "      <td>1</td>\n",
              "      <td>30</td>\n",
              "      <td>13.9</td>\n",
              "      <td>-0.3</td>\n",
              "      <td>0.79</td>\n",
              "      <td>0</td>\n",
              "    </tr>\n",
              "    <tr>\n",
              "      <th>4422</th>\n",
              "      <td>1</td>\n",
              "      <td>9</td>\n",
              "      <td>1</td>\n",
              "      <td>1</td>\n",
              "      <td>22</td>\n",
              "      <td>27</td>\n",
              "      <td>8</td>\n",
              "      <td>5</td>\n",
              "      <td>1</td>\n",
              "      <td>0</td>\n",
              "      <td>0</td>\n",
              "      <td>1</td>\n",
              "      <td>0</td>\n",
              "      <td>1</td>\n",
              "      <td>20</td>\n",
              "      <td>9.4</td>\n",
              "      <td>-0.8</td>\n",
              "      <td>-3.12</td>\n",
              "      <td>1</td>\n",
              "    </tr>\n",
              "    <tr>\n",
              "      <th>4423</th>\n",
              "      <td>1</td>\n",
              "      <td>15</td>\n",
              "      <td>1</td>\n",
              "      <td>9</td>\n",
              "      <td>23</td>\n",
              "      <td>27</td>\n",
              "      <td>6</td>\n",
              "      <td>10</td>\n",
              "      <td>1</td>\n",
              "      <td>0</td>\n",
              "      <td>0</td>\n",
              "      <td>1</td>\n",
              "      <td>0</td>\n",
              "      <td>0</td>\n",
              "      <td>22</td>\n",
              "      <td>12.7</td>\n",
              "      <td>3.7</td>\n",
              "      <td>-1.70</td>\n",
              "      <td>1</td>\n",
              "    </tr>\n",
              "  </tbody>\n",
              "</table>\n",
              "<p>4424 rows × 19 columns</p>\n",
              "</div>"
            ],
            "text/plain": [
              "      Marital status  Course  Daytime/evening attendance  Nacionality  \\\n",
              "0                  1       2                           1            1   \n",
              "1                  1      11                           1            1   \n",
              "2                  1       5                           1            1   \n",
              "3                  1      15                           1            1   \n",
              "4                  2       3                           0            1   \n",
              "...              ...     ...                         ...          ...   \n",
              "4419               1      15                           1            1   \n",
              "4420               1      15                           1           19   \n",
              "4421               1      12                           1            1   \n",
              "4422               1       9                           1            1   \n",
              "4423               1      15                           1            9   \n",
              "\n",
              "      Mother's qualification  Father's qualification  Mother's occupation  \\\n",
              "0                         13                      10                    6   \n",
              "1                          1                       3                    4   \n",
              "2                         22                      27                   10   \n",
              "3                         23                      27                    6   \n",
              "4                         22                      28                   10   \n",
              "...                      ...                     ...                  ...   \n",
              "4419                       1                       1                    6   \n",
              "4420                       1                       1                   10   \n",
              "4421                      22                      27                   10   \n",
              "4422                      22                      27                    8   \n",
              "4423                      23                      27                    6   \n",
              "\n",
              "      Father's occupation  Displaced  Educational special needs  Debtor  \\\n",
              "0                      10          1                          0       0   \n",
              "1                       4          1                          0       0   \n",
              "2                      10          1                          0       0   \n",
              "3                       4          1                          0       0   \n",
              "4                      10          0                          0       0   \n",
              "...                   ...        ...                        ...     ...   \n",
              "4419                    5          0                          0       0   \n",
              "4420                   10          1                          0       1   \n",
              "4421                   10          1                          0       0   \n",
              "4422                    5          1                          0       0   \n",
              "4423                   10          1                          0       0   \n",
              "\n",
              "      Tuition fees up to date  Gender  Scholarship holder  Age at enrollment  \\\n",
              "0                           1       1                   0                 20   \n",
              "1                           0       1                   0                 19   \n",
              "2                           0       1                   0                 19   \n",
              "3                           1       0                   0                 20   \n",
              "4                           1       0                   0                 45   \n",
              "...                       ...     ...                 ...                ...   \n",
              "4419                        1       1                   0                 19   \n",
              "4420                        0       0                   0                 18   \n",
              "4421                        1       0                   1                 30   \n",
              "4422                        1       0                   1                 20   \n",
              "4423                        1       0                   0                 22   \n",
              "\n",
              "      Unemployment rate  Inflation rate   GDP  1st sem Grade remark  \n",
              "0                  10.8             1.4  1.74                     3  \n",
              "1                  13.9            -0.3  0.79                     0  \n",
              "2                  10.8             1.4  1.74                     3  \n",
              "3                   9.4            -0.8 -3.12                     1  \n",
              "4                  13.9            -0.3  0.79                     1  \n",
              "...                 ...             ...   ...                   ...  \n",
              "4419               15.5             2.8 -4.06                     1  \n",
              "4420               11.1             0.6  2.02                     1  \n",
              "4421               13.9            -0.3  0.79                     0  \n",
              "4422                9.4            -0.8 -3.12                     1  \n",
              "4423               12.7             3.7 -1.70                     1  \n",
              "\n",
              "[4424 rows x 19 columns]"
            ]
          },
          "execution_count": 566,
          "metadata": {},
          "output_type": "execute_result"
        }
      ],
      "source": [
        "df_new"
      ]
    },
    {
      "cell_type": "code",
      "execution_count": 567,
      "metadata": {
        "colab": {
          "base_uri": "https://localhost:8080/"
        },
        "id": "aoIA-qxDUkrL",
        "outputId": "ede6aa29-4367-4793-e9cc-8abdf84ec4c9"
      },
      "outputs": [
        {
          "data": {
            "text/plain": [
              "Index(['Marital status', 'Course', 'Daytime/evening attendance', 'Nacionality',\n",
              "       'Mother's qualification', 'Father's qualification',\n",
              "       'Mother's occupation', 'Father's occupation', 'Displaced',\n",
              "       'Educational special needs', 'Debtor', 'Tuition fees up to date',\n",
              "       'Gender', 'Scholarship holder', 'Age at enrollment',\n",
              "       'Unemployment rate', 'Inflation rate', 'GDP', '1st sem Grade remark'],\n",
              "      dtype='object')"
            ]
          },
          "execution_count": 567,
          "metadata": {},
          "output_type": "execute_result"
        }
      ],
      "source": [
        "df_new.columns"
      ]
    },
    {
      "cell_type": "code",
      "execution_count": 568,
      "metadata": {
        "id": "cJeFTZfIENQY"
      },
      "outputs": [],
      "source": [
        "X = df_new.iloc[:,0:18]\n",
        "y = df_new.iloc[:,18:]\n",
        "\n",
        "# from sklearn import preprocessing\n",
        "# X = preprocessing.normalize(X)"
      ]
    },
    {
      "cell_type": "code",
      "execution_count": 569,
      "metadata": {
        "id": "TCCVYfYbEPiK"
      },
      "outputs": [],
      "source": [
        "from sklearn.model_selection import train_test_split\n",
        "from sklearn.ensemble import RandomForestClassifier\n",
        "from sklearn.metrics import confusion_matrix\n",
        "from sklearn.metrics import classification_report\n",
        "from sklearn.metrics import accuracy_score"
      ]
    },
    {
      "cell_type": "code",
      "execution_count": 570,
      "metadata": {
        "id": "yo0ild9xE5xq"
      },
      "outputs": [],
      "source": [
        "X_train, X_test, y_train, y_test = train_test_split(X, y, random_state = 0, test_size=0.3, shuffle=True)"
      ]
    },
    {
      "cell_type": "code",
      "execution_count": 571,
      "metadata": {
        "id": "bDkhlaljE_xf"
      },
      "outputs": [],
      "source": [
        "y_train = np.array(y_train).flatten()\n",
        "rf_model = RandomForestClassifier().fit(X_train, y_train)"
      ]
    },
    {
      "cell_type": "code",
      "execution_count": 572,
      "metadata": {
        "colab": {
          "base_uri": "https://localhost:8080/"
        },
        "id": "7MmAkGWRFevT",
        "outputId": "9e7f8b35-113a-4f08-9474-4d310c5ad52d"
      },
      "outputs": [
        {
          "data": {
            "text/plain": [
              "array([[ 13, 171,   0,   5],\n",
              "       [ 25, 775,   2,  29],\n",
              "       [  2,  89,   3,   2],\n",
              "       [  3, 132,   2,  75]])"
            ]
          },
          "execution_count": 572,
          "metadata": {},
          "output_type": "execute_result"
        }
      ],
      "source": [
        "y_pred_rf = rf_model.predict(X_test)\n",
        "confusion_matrix(y_test, y_pred_rf)"
      ]
    },
    {
      "cell_type": "markdown",
      "metadata": {
        "id": "S8zPG3RxExWb"
      },
      "source": []
    },
    {
      "cell_type": "code",
      "execution_count": 573,
      "metadata": {
        "colab": {
          "base_uri": "https://localhost:8080/"
        },
        "id": "P78XZo9vF_Fz",
        "outputId": "9a814e4b-fddb-43d8-fa0d-b00ed0e16e00"
      },
      "outputs": [
        {
          "name": "stdout",
          "output_type": "stream",
          "text": [
            "              precision    recall  f1-score   support\n",
            "\n",
            "           0       0.30      0.07      0.11       189\n",
            "           1       0.66      0.93      0.78       831\n",
            "           2       0.43      0.03      0.06        96\n",
            "           3       0.68      0.35      0.46       212\n",
            "\n",
            "    accuracy                           0.65      1328\n",
            "   macro avg       0.52      0.35      0.35      1328\n",
            "weighted avg       0.60      0.65      0.58      1328\n",
            "\n"
          ]
        }
      ],
      "source": [
        "print(classification_report(y_test, y_pred_rf))"
      ]
    },
    {
      "cell_type": "code",
      "execution_count": 574,
      "metadata": {
        "colab": {
          "base_uri": "https://localhost:8080/"
        },
        "id": "vOyOnDHuHp_B",
        "outputId": "c88f1d71-6c99-4a81-f17c-161c2e66615d"
      },
      "outputs": [
        {
          "data": {
            "text/plain": [
              "0.6521084337349398"
            ]
          },
          "execution_count": 574,
          "metadata": {},
          "output_type": "execute_result"
        }
      ],
      "source": [
        "accuracy_score(y_test, y_pred_rf)"
      ]
    },
    {
      "cell_type": "code",
      "execution_count": 575,
      "metadata": {
        "colab": {
          "base_uri": "https://localhost:8080/",
          "height": 521
        },
        "id": "y7Lz7-qyIK6d",
        "outputId": "fd28046a-05c9-4c6c-84b1-c4ac0e23a39a"
      },
      "outputs": [
        {
          "name": "stderr",
          "output_type": "stream",
          "text": [
            "/tmp/ipykernel_6916/238598778.py:2: UserWarning: The palette list has more values (5) than needed (4), which may not be intended.\n",
            "  sns.scatterplot(x=\"Mother's occupation\", y = '1st sem Grade remark', data=df_new, hue='1st sem Grade remark', palette=['green','orange','brown','dodgerblue','red'])\n"
          ]
        },
        {
          "data": {
            "text/plain": [
              "<Axes: xlabel=\"Mother's occupation\", ylabel='1st sem Grade remark'>"
            ]
          },
          "execution_count": 575,
          "metadata": {},
          "output_type": "execute_result"
        },
        {
          "data": {
            "image/png": "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",
            "text/plain": [
              "<Figure size 640x480 with 1 Axes>"
            ]
          },
          "metadata": {},
          "output_type": "display_data"
        }
      ],
      "source": [
        "import seaborn as sns\n",
        "sns.scatterplot(x=\"Mother's occupation\", y = '1st sem Grade remark', data=df_new, hue='1st sem Grade remark', palette=['green','orange','brown','dodgerblue','red'])"
      ]
    },
    {
      "cell_type": "code",
      "execution_count": 576,
      "metadata": {
        "colab": {
          "base_uri": "https://localhost:8080/"
        },
        "id": "CfV-1-sM1eBV",
        "outputId": "c3bb9cde-d3d8-4db2-af2b-2c85eb3ee66f"
      },
      "outputs": [
        {
          "data": {
            "text/plain": [
              "658"
            ]
          },
          "execution_count": 576,
          "metadata": {},
          "output_type": "execute_result"
        }
      ],
      "source": [
        "grade_0 = 0\n",
        "for i in df_new['1st sem Grade remark']:\n",
        "  if i == 0:\n",
        "    grade_0 += 1\n",
        "grade_0"
      ]
    },
    {
      "cell_type": "code",
      "execution_count": 577,
      "metadata": {
        "colab": {
          "base_uri": "https://localhost:8080/"
        },
        "id": "YUyLHdbo6XOc",
        "outputId": "4d137106-28be-4ebe-e086-8ff279d0fafc"
      },
      "outputs": [
        {
          "data": {
            "text/plain": [
              "2744"
            ]
          },
          "execution_count": 577,
          "metadata": {},
          "output_type": "execute_result"
        }
      ],
      "source": [
        "grade_1 = 0\n",
        "for i in df_new['1st sem Grade remark']:\n",
        "  if i == 1:\n",
        "    grade_1 += 1\n",
        "grade_1"
      ]
    },
    {
      "cell_type": "code",
      "execution_count": 578,
      "metadata": {
        "colab": {
          "base_uri": "https://localhost:8080/"
        },
        "id": "8ntM8Pio6dMl",
        "outputId": "9a6f2518-abbb-44f5-8de6-9f35e7b71f37"
      },
      "outputs": [
        {
          "data": {
            "text/plain": [
              "304"
            ]
          },
          "execution_count": 578,
          "metadata": {},
          "output_type": "execute_result"
        }
      ],
      "source": [
        "grade_2 = 0\n",
        "for i in df_new['1st sem Grade remark']:\n",
        "  if i == 2:\n",
        "    grade_2 += 1\n",
        "grade_2"
      ]
    },
    {
      "cell_type": "code",
      "execution_count": 579,
      "metadata": {
        "colab": {
          "base_uri": "https://localhost:8080/"
        },
        "id": "J8yliWXk6fWU",
        "outputId": "f025e0ea-3170-4fcc-e5b6-c4199825b72c"
      },
      "outputs": [
        {
          "data": {
            "text/plain": [
              "718"
            ]
          },
          "execution_count": 579,
          "metadata": {},
          "output_type": "execute_result"
        }
      ],
      "source": [
        "grade_3 = 0\n",
        "for i in df_new['1st sem Grade remark']:\n",
        "  if i == 3:\n",
        "    grade_3 += 1\n",
        "grade_3"
      ]
    },
    {
      "cell_type": "code",
      "execution_count": 580,
      "metadata": {
        "id": "Sr96A2Mr6iFs"
      },
      "outputs": [
        {
          "data": {
            "image/png": "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",
            "text/plain": [
              "<Figure size 640x480 with 1 Axes>"
            ]
          },
          "metadata": {},
          "output_type": "display_data"
        }
      ],
      "source": [
        "categories = ['Excellent', 'Good', 'Fair', 'Poor']\n",
        "values = [grade_0, grade_1, grade_2, grade_3]\n",
        "plt.bar(categories, values)\n",
        "\n",
        "plt.xlabel('Categories')\n",
        "plt.ylabel('Values')\n",
        "plt.title('Grade Distribution')\n",
        "\n",
        "plt.show()"
      ]
    },
    {
      "cell_type": "markdown",
      "metadata": {
        "id": "28nYVJ6odNl1"
      },
      "source": [
        "# With SMOTE\n"
      ]
    },
    {
      "cell_type": "code",
      "execution_count": 581,
      "metadata": {
        "id": "2Hj6Jp9YdSht"
      },
      "outputs": [],
      "source": [
        "from imblearn.over_sampling import SMOTE"
      ]
    },
    {
      "cell_type": "code",
      "execution_count": 582,
      "metadata": {
        "colab": {
          "base_uri": "https://localhost:8080/"
        },
        "id": "OMw53RSQdaVq",
        "outputId": "2e3bd79e-03a3-4f2e-a395-0a9f1d5e32e3"
      },
      "outputs": [
        {
          "data": {
            "text/plain": [
              "(4424, 19)"
            ]
          },
          "execution_count": 582,
          "metadata": {},
          "output_type": "execute_result"
        }
      ],
      "source": [
        "df_newest_filtered = df_new\n",
        "# df_newest_res = df_newest_res[df_newest_res['1st sem Grade remark']==2]\n",
        "df_newest_filtered = df_newest_filtered[(df_newest_filtered['1st sem Grade remark'] == 0) | (df_newest_filtered['1st sem Grade remark'] == 1) | (df_newest_filtered['1st sem Grade remark'] == 2) | (df_newest_filtered['1st sem Grade remark'] == 3)]\n",
        "df_newest_filtered.shape"
      ]
    },
    {
      "cell_type": "code",
      "execution_count": 583,
      "metadata": {
        "id": "CWPAu8DFddto"
      },
      "outputs": [],
      "source": [
        "X_newest = df_newest_filtered.iloc[:,0:18]\n",
        "y_newest = df_newest_filtered.iloc[:,18:]"
      ]
    },
    {
      "cell_type": "code",
      "execution_count": 584,
      "metadata": {
        "id": "6OtrxEcOdg7S"
      },
      "outputs": [],
      "source": [
        "sm = SMOTE(random_state=42, k_neighbors=2)"
      ]
    },
    {
      "cell_type": "code",
      "execution_count": null,
      "metadata": {
        "id": "-sLuAQf8cBfe"
      },
      "outputs": [],
      "source": []
    },
    {
      "cell_type": "code",
      "execution_count": 585,
      "metadata": {
        "id": "sWci9LhOdkai"
      },
      "outputs": [],
      "source": [
        "X_res, y_res = sm.fit_resample(X_newest, y_newest)"
      ]
    },
    {
      "cell_type": "code",
      "execution_count": 586,
      "metadata": {
        "id": "2tQImkeJdoQB"
      },
      "outputs": [],
      "source": [
        "df_newest_res = pd.concat([X_res, y_res], axis = 1)"
      ]
    },
    {
      "cell_type": "code",
      "execution_count": 587,
      "metadata": {
        "id": "fwCLTkT1dqjL"
      },
      "outputs": [],
      "source": [
        "df_newest_dropped = df_new[(df_new['1st sem Grade remark'] != 0) & (df_new['1st sem Grade remark'] != 1) & (df_newest_filtered['1st sem Grade remark'] != 2) & (df_newest_filtered['1st sem Grade remark'] != 3)]"
      ]
    },
    {
      "cell_type": "code",
      "execution_count": 588,
      "metadata": {
        "colab": {
          "base_uri": "https://localhost:8080/"
        },
        "id": "NkW_XR24B0Bd",
        "outputId": "089aaf46-4bdc-4bef-f111-437271696bdf"
      },
      "outputs": [
        {
          "data": {
            "text/plain": [
              "(0, 19)"
            ]
          },
          "execution_count": 588,
          "metadata": {},
          "output_type": "execute_result"
        }
      ],
      "source": [
        "df_newest_dropped.shape"
      ]
    },
    {
      "cell_type": "code",
      "execution_count": 589,
      "metadata": {
        "colab": {
          "base_uri": "https://localhost:8080/"
        },
        "id": "1oFty3efdtYR",
        "outputId": "39c3a27f-6ba9-433e-ff23-cef4e1c63ee7"
      },
      "outputs": [
        {
          "data": {
            "text/plain": [
              "(10976, 19)"
            ]
          },
          "execution_count": 589,
          "metadata": {},
          "output_type": "execute_result"
        }
      ],
      "source": [
        "df_newest = pd.concat([df_newest_dropped, df_newest_res], axis = 0)\n",
        "df_newest.shape"
      ]
    },
    {
      "cell_type": "code",
      "execution_count": 590,
      "metadata": {
        "colab": {
          "base_uri": "https://localhost:8080/"
        },
        "id": "Cj1GlQGX-wZ8",
        "outputId": "1c5e8b1f-9339-40b1-80f3-0f8b06cec7c5"
      },
      "outputs": [
        {
          "data": {
            "text/plain": [
              "2744"
            ]
          },
          "execution_count": 590,
          "metadata": {},
          "output_type": "execute_result"
        }
      ],
      "source": [
        "grade_0_res = 0\n",
        "for i in df_newest['1st sem Grade remark']:\n",
        "  if i == 0:\n",
        "    grade_0_res += 1\n",
        "grade_0_res"
      ]
    },
    {
      "cell_type": "code",
      "execution_count": 591,
      "metadata": {
        "colab": {
          "base_uri": "https://localhost:8080/"
        },
        "id": "J7wzTaFX-3Z7",
        "outputId": "a3888af0-7679-4650-a83d-2e142f0f7a8f"
      },
      "outputs": [
        {
          "data": {
            "text/plain": [
              "2744"
            ]
          },
          "execution_count": 591,
          "metadata": {},
          "output_type": "execute_result"
        }
      ],
      "source": [
        "grade_1_res = 0\n",
        "for i in df_newest['1st sem Grade remark']:\n",
        "  if i == 1:\n",
        "    grade_1_res += 1\n",
        "grade_1_res"
      ]
    },
    {
      "cell_type": "code",
      "execution_count": 592,
      "metadata": {
        "colab": {
          "base_uri": "https://localhost:8080/"
        },
        "id": "ram--O2B_cjo",
        "outputId": "fcc07ab9-2928-4a12-936a-1f137d6c3d6b"
      },
      "outputs": [
        {
          "data": {
            "text/plain": [
              "2744"
            ]
          },
          "execution_count": 592,
          "metadata": {},
          "output_type": "execute_result"
        }
      ],
      "source": [
        "grade_2_res = 0\n",
        "for i in df_newest['1st sem Grade remark']:\n",
        "  if i == 2:\n",
        "    grade_2_res += 1\n",
        "grade_2_res"
      ]
    },
    {
      "cell_type": "code",
      "execution_count": 593,
      "metadata": {
        "colab": {
          "base_uri": "https://localhost:8080/"
        },
        "id": "__Mt-tZ1_1ka",
        "outputId": "1260b41b-19bd-46f8-8600-cc6253949260"
      },
      "outputs": [
        {
          "data": {
            "text/plain": [
              "2744"
            ]
          },
          "execution_count": 593,
          "metadata": {},
          "output_type": "execute_result"
        }
      ],
      "source": [
        "grade_3_res = 0\n",
        "for i in df_newest['1st sem Grade remark']:\n",
        "  if i == 3:\n",
        "    grade_3_res += 1\n",
        "grade_3_res"
      ]
    },
    {
      "cell_type": "code",
      "execution_count": 594,
      "metadata": {},
      "outputs": [
        {
          "data": {
            "image/png": "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",
            "text/plain": [
              "<Figure size 600x400 with 1 Axes>"
            ]
          },
          "metadata": {},
          "output_type": "display_data"
        }
      ],
      "source": [
        "categories_res = ['Excellent', 'Good', 'Fair', 'Poor']\n",
        "values_res = [grade_0_res, grade_1_res, grade_2_res, grade_3_res]\n",
        "plt.figure(figsize=(6, 4)) \n",
        "plt.bar(categories_res, values_res)\n",
        "\n",
        "plt.xlabel('Categories')\n",
        "plt.ylabel('Values')\n",
        "plt.title('Grade Distribution')\n",
        "\n",
        "plt.show()"
      ]
    },
    {
      "cell_type": "code",
      "execution_count": null,
      "metadata": {},
      "outputs": [],
      "source": []
    },
    {
      "cell_type": "code",
      "execution_count": 595,
      "metadata": {
        "id": "KsKZ1Vos_9at"
      },
      "outputs": [],
      "source": [
        "X = df_newest.iloc[:,0:18]\n",
        "y = df_newest.iloc[:,18:]"
      ]
    },
    {
      "cell_type": "code",
      "execution_count": 596,
      "metadata": {
        "id": "QsEs2OdsAI-g"
      },
      "outputs": [],
      "source": [
        "X_train_res, X_test_res, y_train_res, y_test_res = train_test_split(X, y, random_state = 0, test_size=0.3, shuffle=True)"
      ]
    },
    {
      "cell_type": "code",
      "execution_count": 597,
      "metadata": {},
      "outputs": [
        {
          "data": {
            "text/html": [
              "<div>\n",
              "<style scoped>\n",
              "    .dataframe tbody tr th:only-of-type {\n",
              "        vertical-align: middle;\n",
              "    }\n",
              "\n",
              "    .dataframe tbody tr th {\n",
              "        vertical-align: top;\n",
              "    }\n",
              "\n",
              "    .dataframe thead th {\n",
              "        text-align: right;\n",
              "    }\n",
              "</style>\n",
              "<table border=\"1\" class=\"dataframe\">\n",
              "  <thead>\n",
              "    <tr style=\"text-align: right;\">\n",
              "      <th></th>\n",
              "      <th>Marital status</th>\n",
              "      <th>Course</th>\n",
              "      <th>Daytime/evening attendance</th>\n",
              "      <th>Nacionality</th>\n",
              "      <th>Mother's qualification</th>\n",
              "      <th>Father's qualification</th>\n",
              "      <th>Mother's occupation</th>\n",
              "      <th>Father's occupation</th>\n",
              "      <th>Displaced</th>\n",
              "      <th>Educational special needs</th>\n",
              "      <th>Debtor</th>\n",
              "      <th>Tuition fees up to date</th>\n",
              "      <th>Gender</th>\n",
              "      <th>Scholarship holder</th>\n",
              "      <th>Age at enrollment</th>\n",
              "      <th>Unemployment rate</th>\n",
              "      <th>Inflation rate</th>\n",
              "      <th>GDP</th>\n",
              "    </tr>\n",
              "  </thead>\n",
              "  <tbody>\n",
              "    <tr>\n",
              "      <th>0</th>\n",
              "      <td>1</td>\n",
              "      <td>2</td>\n",
              "      <td>1</td>\n",
              "      <td>1</td>\n",
              "      <td>13</td>\n",
              "      <td>10</td>\n",
              "      <td>6</td>\n",
              "      <td>10</td>\n",
              "      <td>1</td>\n",
              "      <td>0</td>\n",
              "      <td>0</td>\n",
              "      <td>1</td>\n",
              "      <td>1</td>\n",
              "      <td>0</td>\n",
              "      <td>20</td>\n",
              "      <td>10.800000</td>\n",
              "      <td>1.400000</td>\n",
              "      <td>1.740000</td>\n",
              "    </tr>\n",
              "    <tr>\n",
              "      <th>1</th>\n",
              "      <td>1</td>\n",
              "      <td>11</td>\n",
              "      <td>1</td>\n",
              "      <td>1</td>\n",
              "      <td>1</td>\n",
              "      <td>3</td>\n",
              "      <td>4</td>\n",
              "      <td>4</td>\n",
              "      <td>1</td>\n",
              "      <td>0</td>\n",
              "      <td>0</td>\n",
              "      <td>0</td>\n",
              "      <td>1</td>\n",
              "      <td>0</td>\n",
              "      <td>19</td>\n",
              "      <td>13.900000</td>\n",
              "      <td>-0.300000</td>\n",
              "      <td>0.790000</td>\n",
              "    </tr>\n",
              "    <tr>\n",
              "      <th>2</th>\n",
              "      <td>1</td>\n",
              "      <td>5</td>\n",
              "      <td>1</td>\n",
              "      <td>1</td>\n",
              "      <td>22</td>\n",
              "      <td>27</td>\n",
              "      <td>10</td>\n",
              "      <td>10</td>\n",
              "      <td>1</td>\n",
              "      <td>0</td>\n",
              "      <td>0</td>\n",
              "      <td>0</td>\n",
              "      <td>1</td>\n",
              "      <td>0</td>\n",
              "      <td>19</td>\n",
              "      <td>10.800000</td>\n",
              "      <td>1.400000</td>\n",
              "      <td>1.740000</td>\n",
              "    </tr>\n",
              "    <tr>\n",
              "      <th>3</th>\n",
              "      <td>1</td>\n",
              "      <td>15</td>\n",
              "      <td>1</td>\n",
              "      <td>1</td>\n",
              "      <td>23</td>\n",
              "      <td>27</td>\n",
              "      <td>6</td>\n",
              "      <td>4</td>\n",
              "      <td>1</td>\n",
              "      <td>0</td>\n",
              "      <td>0</td>\n",
              "      <td>1</td>\n",
              "      <td>0</td>\n",
              "      <td>0</td>\n",
              "      <td>20</td>\n",
              "      <td>9.400000</td>\n",
              "      <td>-0.800000</td>\n",
              "      <td>-3.120000</td>\n",
              "    </tr>\n",
              "    <tr>\n",
              "      <th>4</th>\n",
              "      <td>2</td>\n",
              "      <td>3</td>\n",
              "      <td>0</td>\n",
              "      <td>1</td>\n",
              "      <td>22</td>\n",
              "      <td>28</td>\n",
              "      <td>10</td>\n",
              "      <td>10</td>\n",
              "      <td>0</td>\n",
              "      <td>0</td>\n",
              "      <td>0</td>\n",
              "      <td>1</td>\n",
              "      <td>0</td>\n",
              "      <td>0</td>\n",
              "      <td>45</td>\n",
              "      <td>13.900000</td>\n",
              "      <td>-0.300000</td>\n",
              "      <td>0.790000</td>\n",
              "    </tr>\n",
              "    <tr>\n",
              "      <th>...</th>\n",
              "      <td>...</td>\n",
              "      <td>...</td>\n",
              "      <td>...</td>\n",
              "      <td>...</td>\n",
              "      <td>...</td>\n",
              "      <td>...</td>\n",
              "      <td>...</td>\n",
              "      <td>...</td>\n",
              "      <td>...</td>\n",
              "      <td>...</td>\n",
              "      <td>...</td>\n",
              "      <td>...</td>\n",
              "      <td>...</td>\n",
              "      <td>...</td>\n",
              "      <td>...</td>\n",
              "      <td>...</td>\n",
              "      <td>...</td>\n",
              "      <td>...</td>\n",
              "    </tr>\n",
              "    <tr>\n",
              "      <th>10971</th>\n",
              "      <td>1</td>\n",
              "      <td>11</td>\n",
              "      <td>1</td>\n",
              "      <td>1</td>\n",
              "      <td>22</td>\n",
              "      <td>27</td>\n",
              "      <td>5</td>\n",
              "      <td>6</td>\n",
              "      <td>0</td>\n",
              "      <td>0</td>\n",
              "      <td>1</td>\n",
              "      <td>0</td>\n",
              "      <td>0</td>\n",
              "      <td>0</td>\n",
              "      <td>26</td>\n",
              "      <td>14.835736</td>\n",
              "      <td>-0.055895</td>\n",
              "      <td>0.094301</td>\n",
              "    </tr>\n",
              "    <tr>\n",
              "      <th>10972</th>\n",
              "      <td>1</td>\n",
              "      <td>6</td>\n",
              "      <td>1</td>\n",
              "      <td>1</td>\n",
              "      <td>1</td>\n",
              "      <td>27</td>\n",
              "      <td>11</td>\n",
              "      <td>11</td>\n",
              "      <td>0</td>\n",
              "      <td>0</td>\n",
              "      <td>0</td>\n",
              "      <td>1</td>\n",
              "      <td>1</td>\n",
              "      <td>0</td>\n",
              "      <td>29</td>\n",
              "      <td>11.088079</td>\n",
              "      <td>1.341317</td>\n",
              "      <td>1.598094</td>\n",
              "    </tr>\n",
              "    <tr>\n",
              "      <th>10973</th>\n",
              "      <td>1</td>\n",
              "      <td>2</td>\n",
              "      <td>1</td>\n",
              "      <td>1</td>\n",
              "      <td>2</td>\n",
              "      <td>1</td>\n",
              "      <td>5</td>\n",
              "      <td>4</td>\n",
              "      <td>1</td>\n",
              "      <td>0</td>\n",
              "      <td>0</td>\n",
              "      <td>0</td>\n",
              "      <td>0</td>\n",
              "      <td>0</td>\n",
              "      <td>19</td>\n",
              "      <td>16.200000</td>\n",
              "      <td>0.300000</td>\n",
              "      <td>-0.920000</td>\n",
              "    </tr>\n",
              "    <tr>\n",
              "      <th>10974</th>\n",
              "      <td>1</td>\n",
              "      <td>9</td>\n",
              "      <td>1</td>\n",
              "      <td>1</td>\n",
              "      <td>12</td>\n",
              "      <td>1</td>\n",
              "      <td>8</td>\n",
              "      <td>10</td>\n",
              "      <td>0</td>\n",
              "      <td>0</td>\n",
              "      <td>0</td>\n",
              "      <td>1</td>\n",
              "      <td>1</td>\n",
              "      <td>0</td>\n",
              "      <td>19</td>\n",
              "      <td>9.759316</td>\n",
              "      <td>1.790256</td>\n",
              "      <td>1.278197</td>\n",
              "    </tr>\n",
              "    <tr>\n",
              "      <th>10975</th>\n",
              "      <td>2</td>\n",
              "      <td>4</td>\n",
              "      <td>0</td>\n",
              "      <td>1</td>\n",
              "      <td>22</td>\n",
              "      <td>27</td>\n",
              "      <td>10</td>\n",
              "      <td>11</td>\n",
              "      <td>0</td>\n",
              "      <td>0</td>\n",
              "      <td>0</td>\n",
              "      <td>0</td>\n",
              "      <td>0</td>\n",
              "      <td>0</td>\n",
              "      <td>38</td>\n",
              "      <td>10.348544</td>\n",
              "      <td>0.690570</td>\n",
              "      <td>0.172804</td>\n",
              "    </tr>\n",
              "  </tbody>\n",
              "</table>\n",
              "<p>10976 rows × 18 columns</p>\n",
              "</div>"
            ],
            "text/plain": [
              "       Marital status  Course  Daytime/evening attendance  Nacionality  \\\n",
              "0                   1       2                           1            1   \n",
              "1                   1      11                           1            1   \n",
              "2                   1       5                           1            1   \n",
              "3                   1      15                           1            1   \n",
              "4                   2       3                           0            1   \n",
              "...               ...     ...                         ...          ...   \n",
              "10971               1      11                           1            1   \n",
              "10972               1       6                           1            1   \n",
              "10973               1       2                           1            1   \n",
              "10974               1       9                           1            1   \n",
              "10975               2       4                           0            1   \n",
              "\n",
              "       Mother's qualification  Father's qualification  Mother's occupation  \\\n",
              "0                          13                      10                    6   \n",
              "1                           1                       3                    4   \n",
              "2                          22                      27                   10   \n",
              "3                          23                      27                    6   \n",
              "4                          22                      28                   10   \n",
              "...                       ...                     ...                  ...   \n",
              "10971                      22                      27                    5   \n",
              "10972                       1                      27                   11   \n",
              "10973                       2                       1                    5   \n",
              "10974                      12                       1                    8   \n",
              "10975                      22                      27                   10   \n",
              "\n",
              "       Father's occupation  Displaced  Educational special needs  Debtor  \\\n",
              "0                       10          1                          0       0   \n",
              "1                        4          1                          0       0   \n",
              "2                       10          1                          0       0   \n",
              "3                        4          1                          0       0   \n",
              "4                       10          0                          0       0   \n",
              "...                    ...        ...                        ...     ...   \n",
              "10971                    6          0                          0       1   \n",
              "10972                   11          0                          0       0   \n",
              "10973                    4          1                          0       0   \n",
              "10974                   10          0                          0       0   \n",
              "10975                   11          0                          0       0   \n",
              "\n",
              "       Tuition fees up to date  Gender  Scholarship holder  Age at enrollment  \\\n",
              "0                            1       1                   0                 20   \n",
              "1                            0       1                   0                 19   \n",
              "2                            0       1                   0                 19   \n",
              "3                            1       0                   0                 20   \n",
              "4                            1       0                   0                 45   \n",
              "...                        ...     ...                 ...                ...   \n",
              "10971                        0       0                   0                 26   \n",
              "10972                        1       1                   0                 29   \n",
              "10973                        0       0                   0                 19   \n",
              "10974                        1       1                   0                 19   \n",
              "10975                        0       0                   0                 38   \n",
              "\n",
              "       Unemployment rate  Inflation rate       GDP  \n",
              "0              10.800000        1.400000  1.740000  \n",
              "1              13.900000       -0.300000  0.790000  \n",
              "2              10.800000        1.400000  1.740000  \n",
              "3               9.400000       -0.800000 -3.120000  \n",
              "4              13.900000       -0.300000  0.790000  \n",
              "...                  ...             ...       ...  \n",
              "10971          14.835736       -0.055895  0.094301  \n",
              "10972          11.088079        1.341317  1.598094  \n",
              "10973          16.200000        0.300000 -0.920000  \n",
              "10974           9.759316        1.790256  1.278197  \n",
              "10975          10.348544        0.690570  0.172804  \n",
              "\n",
              "[10976 rows x 18 columns]"
            ]
          },
          "execution_count": 597,
          "metadata": {},
          "output_type": "execute_result"
        }
      ],
      "source": [
        "X"
      ]
    },
    {
      "cell_type": "code",
      "execution_count": 598,
      "metadata": {
        "id": "18sYhsEjD3z_"
      },
      "outputs": [],
      "source": [
        "y_train_res = np.array(y_train_res).flatten()\n",
        "rf_new_model = RandomForestClassifier().fit(X_train_res, y_train_res)"
      ]
    },
    {
      "cell_type": "code",
      "execution_count": 599,
      "metadata": {
        "colab": {
          "base_uri": "https://localhost:8080/"
        },
        "id": "Hm5LyySfD8IX",
        "outputId": "79ffac9c-e8e9-4f95-c6f4-ed502c95161d"
      },
      "outputs": [
        {
          "data": {
            "text/plain": [
              "(7683,)"
            ]
          },
          "execution_count": 599,
          "metadata": {},
          "output_type": "execute_result"
        }
      ],
      "source": [
        "np.array(y_train_res).flatten().shape"
      ]
    },
    {
      "cell_type": "code",
      "execution_count": 600,
      "metadata": {
        "colab": {
          "base_uri": "https://localhost:8080/"
        },
        "id": "73KX94N_EFzQ",
        "outputId": "0c872585-368f-4d21-fc27-77fd6536c117"
      },
      "outputs": [
        {
          "data": {
            "text/plain": [
              "array([[665, 112,  15,  27],\n",
              "       [100, 605,  51,  61],\n",
              "       [  3,  40, 775,  15],\n",
              "       [ 27,  69,  15, 713]])"
            ]
          },
          "execution_count": 600,
          "metadata": {},
          "output_type": "execute_result"
        }
      ],
      "source": [
        "y_pred_rf_res = rf_new_model.predict(X_test_res)\n",
        "confusion_matrix(y_test_res, y_pred_rf_res)"
      ]
    },
    {
      "cell_type": "code",
      "execution_count": 601,
      "metadata": {
        "colab": {
          "base_uri": "https://localhost:8080/"
        },
        "id": "DcdMLgPUGn4w",
        "outputId": "cda11ce8-41d7-4901-ba95-b68d302ce8e1"
      },
      "outputs": [
        {
          "name": "stdout",
          "output_type": "stream",
          "text": [
            "              precision    recall  f1-score   support\n",
            "\n",
            "           0       0.84      0.81      0.82       819\n",
            "           1       0.73      0.74      0.74       817\n",
            "           2       0.91      0.93      0.92       833\n",
            "           3       0.87      0.87      0.87       824\n",
            "\n",
            "    accuracy                           0.84      3293\n",
            "   macro avg       0.84      0.84      0.84      3293\n",
            "weighted avg       0.84      0.84      0.84      3293\n",
            "\n"
          ]
        }
      ],
      "source": [
        "print(classification_report(y_test_res, y_pred_rf_res))"
      ]
    },
    {
      "cell_type": "code",
      "execution_count": 602,
      "metadata": {
        "colab": {
          "base_uri": "https://localhost:8080/"
        },
        "id": "0MfXM12EE0qK",
        "outputId": "c715e370-6323-401c-eb0e-a5cdd615bef9"
      },
      "outputs": [
        {
          "data": {
            "text/plain": [
              "0.83753416337686"
            ]
          },
          "execution_count": 602,
          "metadata": {},
          "output_type": "execute_result"
        }
      ],
      "source": [
        "accuracy_score(y_test_res, y_pred_rf_res)"
      ]
    },
    {
      "cell_type": "code",
      "execution_count": 603,
      "metadata": {
        "id": "0XaG3KVMFDLB"
      },
      "outputs": [],
      "source": [
        "import pickle\n",
        "data_1 = {\"model\": rf_new_model}\n",
        "with open('saved_steps_1.pkl', 'wb') as file:\n",
        "    pickle.dump(data_1, file)"
      ]
    },
    {
      "cell_type": "code",
      "execution_count": 604,
      "metadata": {},
      "outputs": [],
      "source": [
        "import pickle\n",
        "data_2 = {\"y_test\": y_test, \"y_pred_rf\": y_pred_rf, \"y_test_res\": y_test_res, \"y_pred_rf_res\": y_pred_rf_res, \"categories\": categories, \"values\": values, \"categories_res\": categories_res, \"values_res\": values_res}\n",
        "with open('saved_steps_2.pkl', 'wb') as file:\n",
        "    pickle.dump(data_2, file)"
      ]
    }
  ],
  "metadata": {
    "colab": {
      "provenance": []
    },
    "kernelspec": {
      "display_name": "Python 3",
      "name": "python3"
    },
    "language_info": {
      "codemirror_mode": {
        "name": "ipython",
        "version": 3
      },
      "file_extension": ".py",
      "mimetype": "text/x-python",
      "name": "python",
      "nbconvert_exporter": "python",
      "pygments_lexer": "ipython3",
      "version": "3.10.12"
    }
  },
  "nbformat": 4,
  "nbformat_minor": 0
}
